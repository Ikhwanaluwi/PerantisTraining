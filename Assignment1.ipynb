{
 "cells": [
  {
   "cell_type": "code",
   "execution_count": null,
   "metadata": {},
   "outputs": [],
   "source": [
    "#Task1(APPLICATION LETTER)"
   ]
  },
  {
   "cell_type": "code",
   "execution_count": 1,
   "metadata": {},
   "outputs": [],
   "source": [
    "import textwrap as tr"
   ]
  },
  {
   "cell_type": "code",
   "execution_count": 2,
   "metadata": {},
   "outputs": [],
   "source": [
    "my_str = \"Python is an interpreted, high-level and general-purpose programming language.\""
   ]
  },
  {
   "cell_type": "code",
   "execution_count": 3,
   "metadata": {},
   "outputs": [
    {
     "name": "stdin",
     "output_type": "stream",
     "text": [
      "Name: Ikhwan Firdaus\n"
     ]
    }
   ],
   "source": [
    "name=input(\"Name:\")"
   ]
  },
  {
   "cell_type": "code",
   "execution_count": 4,
   "metadata": {},
   "outputs": [
    {
     "name": "stdin",
     "output_type": "stream",
     "text": [
      "Zipcode<space>City: 15200 Kota Bharu\n"
     ]
    }
   ],
   "source": [
    "cz=input(\"Zipcode<space>City:\")"
   ]
  },
  {
   "cell_type": "code",
   "execution_count": 5,
   "metadata": {},
   "outputs": [
    {
     "name": "stdin",
     "output_type": "stream",
     "text": [
      "Phone number: 0196369695\n"
     ]
    }
   ],
   "source": [
    "phone=input(\"Phone number:\")"
   ]
  },
  {
   "cell_type": "code",
   "execution_count": 6,
   "metadata": {},
   "outputs": [
    {
     "name": "stdin",
     "output_type": "stream",
     "text": [
      "Email: ikhwan.aluwi@gmail.com\n"
     ]
    }
   ],
   "source": [
    "email=input(\"Email:\")"
   ]
  },
  {
   "cell_type": "code",
   "execution_count": 7,
   "metadata": {},
   "outputs": [
    {
     "name": "stdin",
     "output_type": "stream",
     "text": [
      "Date:  17 October 2021\n"
     ]
    }
   ],
   "source": [
    "date=input(\"Date: \")"
   ]
  },
  {
   "cell_type": "code",
   "execution_count": 8,
   "metadata": {},
   "outputs": [
    {
     "name": "stdin",
     "output_type": "stream",
     "text": [
      "Course:  Bachelor of Mechatronic Engineering\n"
     ]
    }
   ],
   "source": [
    "course = input(\"Course: \")"
   ]
  },
  {
   "cell_type": "code",
   "execution_count": 9,
   "metadata": {},
   "outputs": [
    {
     "name": "stdin",
     "output_type": "stream",
     "text": [
      "University= UniMAP\n"
     ]
    }
   ],
   "source": [
    "uni=input(\"University=\")"
   ]
  },
  {
   "cell_type": "code",
   "execution_count": 10,
   "metadata": {},
   "outputs": [],
   "source": [
    "Manager= \"Hiring Mnager\\n72900 Nusajaya\\n01X-XXXXXXX\\nhremail@gmail.com\""
   ]
  },
  {
   "cell_type": "code",
   "execution_count": 41,
   "metadata": {},
   "outputs": [],
   "source": [
    "para1= \"I am\",name,\"a fresh graduate of\",course, \"from\",uni +\". \"\"I am writing to apply for a placement in Perantis program.\\n\\n\""
   ]
  },
  {
   "cell_type": "code",
   "execution_count": 43,
   "metadata": {},
   "outputs": [],
   "source": [
    "para2=\"\\tI am interestesd in Industrial Automation training. I have develop my interest in robotics and automation during my year of studies. Hence, I believe that this training program is a good platform and will be benefial for me.\\n\""
   ]
  },
  {
   "cell_type": "code",
   "execution_count": 44,
   "metadata": {},
   "outputs": [],
   "source": [
    "para3=\"\\tI am appreciate your time reviewing my application. It will be a pleasure to attend an interview with you at your convinient time.\""
   ]
  },
  {
   "cell_type": "code",
   "execution_count": 64,
   "metadata": {},
   "outputs": [],
   "source": [
    "para4=\"I can be contacted through phone at\",phone, \"or email at\",email+\".\",\"Thank you.\\n\\n\" + \"Best regards,\\n\\n\" + \"\\033[1m\" + \"Ikhwan\" + \"\\033[1m\""
   ]
  },
  {
   "cell_type": "code",
   "execution_count": 65,
   "metadata": {},
   "outputs": [
    {
     "name": "stdout",
     "output_type": "stream",
     "text": [
      "Ikhwan Firdaus\n",
      "15200 Kota Bharu\n",
      "0196369695\n",
      "ikhwan.aluwi@gmail.com\n",
      "\n",
      "17 October 2021\n",
      "\n",
      "Hiring Mnager\n",
      "72900 Nusajaya\n",
      "01X-XXXXXXX\n",
      "hremail@gmail.com\n",
      "\n",
      "Dear Hiring Manager,\n",
      "\n",
      "I am Ikhwan Firdaus a fresh graduate of Bachelor of Mechatronic Engineering from UniMAP. I am writing to apply for a placement in Perantis program.\n",
      "\n",
      " \tI am interestesd in Industrial Automation training. I have develop my interest in robotics and automation during my year of studies. Hence, I believe that this training program is a good platform and will be benefial for me.\n",
      " \tI am appreciate your time reviewing my application. It will be a pleasure to attend an interview with you at your convinient time. I can be contacted through phone at 0196369695 or email at ikhwan.aluwi@gmail.com. Thank you.\n",
      "\n",
      "Best regards,\n",
      "\n",
      "\u001b[1mIkhwan\u001b[1m\n"
     ]
    }
   ],
   "source": [
    "Intro=name,cz,phone,email\n",
    "print(*Intro, sep=\"\\n\", end=\"\\n\\n\" + date + \"\\n\\n\")\n",
    "print(Manager + \"\\n\\nDear Hiring Manager,\\n\")\n",
    "#tr.fill(para1,width=60)\n",
    "print(*para1,para2,para3,*para4)"
   ]
  },
  {
   "cell_type": "code",
   "execution_count": null,
   "metadata": {},
   "outputs": [],
   "source": [
    "#TASK 2 (SOLVE QUADRATIC EQUAION)"
   ]
  },
  {
   "cell_type": "code",
   "execution_count": 86,
   "metadata": {},
   "outputs": [],
   "source": [
    "import math"
   ]
  },
  {
   "cell_type": "code",
   "execution_count": 87,
   "metadata": {},
   "outputs": [],
   "source": [
    "a=2\n",
    "b=8\n",
    "c=1\n",
    "calc = b**2 - 4*a*c\n",
    "square=math.sqrt(56)"
   ]
  },
  {
   "cell_type": "code",
   "execution_count": 88,
   "metadata": {},
   "outputs": [
    {
     "name": "stdout",
     "output_type": "stream",
     "text": [
      "x_1 =  -0.12917130661302934 x_2 =  -3.8708286933869704\n"
     ]
    }
   ],
   "source": [
    "x_1=(-b+square)/(2*a)\n",
    "x_2=(-b-square)/(2*a)\n",
    "print(\"x_1 = \", x_1, \"x_2 = \",x_2)"
   ]
  },
  {
   "cell_type": "code",
   "execution_count": null,
   "metadata": {},
   "outputs": [],
   "source": []
  }
 ],
 "metadata": {
  "kernelspec": {
   "display_name": "Python 3",
   "language": "python",
   "name": "python3"
  },
  "language_info": {
   "codemirror_mode": {
    "name": "ipython",
    "version": 3
   },
   "file_extension": ".py",
   "mimetype": "text/x-python",
   "name": "python",
   "nbconvert_exporter": "python",
   "pygments_lexer": "ipython3",
   "version": "3.8.8"
  }
 },
 "nbformat": 4,
 "nbformat_minor": 4
}
