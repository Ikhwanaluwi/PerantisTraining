{
 "cells": [
  {
   "cell_type": "markdown",
   "id": "1400f854-1868-4094-a10e-ce1402542167",
   "metadata": {},
   "source": [
    "## Assignment \n",
    "\n",
    "1- create an array of shape (10, 10) with uint8 random values.\n",
    "\n",
    "2- print the shape, size and dimension.\n",
    "\n",
    "3- compute the sum of the third to last row.\n",
    "\n",
    "4- compute the average of the columns"
   ]
  },
  {
   "cell_type": "code",
   "execution_count": 17,
   "id": "a8ab8957-204e-4748-b46e-99997767bdb3",
   "metadata": {},
   "outputs": [
    {
     "name": "stdout",
     "output_type": "stream",
     "text": [
      "a = \n",
      " [[ 2 18 11 13 10 19  3  6  3  2]\n",
      " [13 18  8 13 15 17 17  1 12 17]\n",
      " [ 2 18 16 18  1 14 14  8 11  8]\n",
      " [10 16  7 17  7  8 16  3 12 18]\n",
      " [ 1 12  9 14 13  8  5  7  5 15]\n",
      " [ 3 14  1  6 15 10  5  3  1  8]\n",
      " [16 10 10 12 16  6  7 16  3  2]\n",
      " [ 5  9  8  5  7 16  1 11 11 15]\n",
      " [15 10  1 19 18  4  7 18 12  5]\n",
      " [16  1 13  1  1 11 16 13  4 13]]\n",
      "dim =  2\n",
      "shape =  (10, 10)\n",
      "size =  100\n",
      "\n",
      "last row:  [16  1 13  1  1 11 16 13  4 13]\n",
      "\n",
      "2nd last row:  [15 10  1 19 18  4  7 18 12  5]\n",
      "\n",
      "3rd last row:  [ 5  9  8  5  7 16  1 11 11 15]\n",
      "\n",
      "Sum of three last row:  [36 20 22 25 26 31 24 42 27 33]\n",
      "\n",
      "Average of column:  [ 8.3 12.6  8.4 11.8 10.3 11.3  9.1  8.6  7.4 10.3]\n"
     ]
    }
   ],
   "source": [
    "import numpy as np\n",
    "\n",
    "def array_properties(a):\n",
    "    print(\"a = \\n\", a)\n",
    "    print(\"dim = \", a.ndim)\n",
    "    print(\"shape = \", a.shape)\n",
    "    print(\"size = \", a.size)\n",
    "    print()\n",
    "\n",
    "\n",
    "ar_05 = np.random.randint(1,20, (10,10), dtype = 'uint8')\n",
    "array_properties(ar_05)\n",
    "\n",
    "print((\"last row: \"), ar_05[-1])\n",
    "print()\n",
    "print((\"2nd last row: \"), ar_05[-2])\n",
    "print()\n",
    "print((\"3rd last row: \"), ar_05[-3])\n",
    "\n",
    "total = ar_05[-1] + ar_05[-2] + ar_05[-3]  \n",
    "print()\n",
    "print((\"Sum of three last row: \"),total)\n",
    "\n",
    "total_all = np.sum(ar_05,axis=0)  \n",
    "\n",
    "average = total_all / 10\n",
    "print()\n",
    "print((\"Average of column: \"),average)"
   ]
  },
  {
   "cell_type": "code",
   "execution_count": null,
   "id": "c8d0e944-3981-45c8-b004-9cf326d86193",
   "metadata": {},
   "outputs": [],
   "source": []
  }
 ],
 "metadata": {
  "kernelspec": {
   "display_name": "Python 3",
   "language": "python",
   "name": "python3"
  },
  "language_info": {
   "codemirror_mode": {
    "name": "ipython",
    "version": 3
   },
   "file_extension": ".py",
   "mimetype": "text/x-python",
   "name": "python",
   "nbconvert_exporter": "python",
   "pygments_lexer": "ipython3",
   "version": "3.8.8"
  }
 },
 "nbformat": 4,
 "nbformat_minor": 5
}
