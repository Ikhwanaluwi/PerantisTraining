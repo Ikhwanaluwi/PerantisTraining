{
 "cells": [
  {
   "cell_type": "code",
   "execution_count": 2,
   "id": "169f95ca-745a-4d71-923e-246f4c5248b8",
   "metadata": {},
   "outputs": [
    {
     "name": "stdin",
     "output_type": "stream",
     "text": [
      "Insert a number: 8\n"
     ]
    },
    {
     "name": "stdout",
     "output_type": "stream",
     "text": [
      "36\n"
     ]
    }
   ],
   "source": [
    "\"\"\"\n",
    "TASK 1\n",
    "\n",
    "write a function to calculate S=1+2+3...+n\n",
    "a)simple way\n",
    "b) via recursive function\n",
    "\n",
    "\"\"\"\n",
    "#a\n",
    "n = int(input(\"Insert a number:\"))\n",
    "i=1\n",
    "s=0\n",
    "for i in range (n+1):\n",
    "    s = s+i\n",
    "    i = i+1\n",
    "print(s)\n",
    "\n",
    "\n"
   ]
  },
  {
   "cell_type": "code",
   "execution_count": 29,
   "id": "b52f052d-a209-44cb-9674-4c2eb72c7e94",
   "metadata": {},
   "outputs": [
    {
     "name": "stdin",
     "output_type": "stream",
     "text": [
      "Insert an integer: 8\n"
     ]
    },
    {
     "name": "stdout",
     "output_type": "stream",
     "text": [
      "Total is:  36.0\n"
     ]
    }
   ],
   "source": [
    "def totalnum (s):\n",
    "    if s==1:\n",
    "        return 1\n",
    "    else:\n",
    "        return ((s*(s+1))/2)\n",
    "s = int(input(\"Insert an integer:\"))       \n",
    "print(\"Total is: \",totalnum(s))\n"
   ]
  },
  {
   "cell_type": "code",
   "execution_count": 30,
   "id": "429779c3-0b66-47d2-88c8-e1d66b0a692c",
   "metadata": {},
   "outputs": [
    {
     "name": "stdin",
     "output_type": "stream",
     "text": [
      "How many terms? 7\n"
     ]
    },
    {
     "name": "stdout",
     "output_type": "stream",
     "text": [
      "Fibonacci sequence:\n",
      "0\n",
      "1\n",
      "1\n",
      "2\n",
      "3\n",
      "5\n",
      "8\n"
     ]
    }
   ],
   "source": [
    "\"\"\"\n",
    "WRITE A FIBONACCI SEQUENCE\n",
    "\"\"\"\n",
    "terms = int(input(\"How many terms?\"))\n",
    "\n",
    "n1, n2 = 0, 1\n",
    "count = 0\n",
    "\n",
    "if terms <= 0:\n",
    "    print(\"enter an integer\")\n",
    "    \n",
    "elif terms == 1:\n",
    "    print(\"Fibonacci sequence upto\",terms)\n",
    "    print(n1)\n",
    "    \n",
    "else:\n",
    "    print(\"Fibonacci sequence:\")\n",
    "    while count < terms:\n",
    "        print(n1)\n",
    "        y = n1 + n2\n",
    "        \n",
    "        n1 = n2\n",
    "        n2 = y\n",
    "        count = count+1\n"
   ]
  },
  {
   "cell_type": "code",
   "execution_count": 33,
   "id": "bfcdf547-e58f-483d-9452-307ce5f96f65",
   "metadata": {},
   "outputs": [
    {
     "name": "stdin",
     "output_type": "stream",
     "text": [
      "How many terms: 7\n"
     ]
    },
    {
     "name": "stdout",
     "output_type": "stream",
     "text": [
      "Fibonacci sequence:\n",
      "0\n",
      "1\n",
      "1\n",
      "2\n",
      "3\n",
      "5\n",
      "8\n"
     ]
    }
   ],
   "source": [
    "# Fibonacci sequence with recursive fn\n",
    "\n",
    "def fibo1(n):\n",
    "    if n <=1:\n",
    "        return n\n",
    "    else:\n",
    "        return(fibo1(n-1) + fibo1(n-2))\n",
    "terms = int(input(\"How many terms:\"))\n",
    "if terms <= 0:\n",
    "        print(\"insert an integer\")\n",
    "else:\n",
    "    print(\"Fibonacci sequence:\")\n",
    "    for i in range(terms):\n",
    "        print(fibo1(i))"
   ]
  },
  {
   "cell_type": "code",
   "execution_count": 36,
   "id": "d7baea36-cd71-4a79-ad4b-e39d09e0b629",
   "metadata": {},
   "outputs": [
    {
     "name": "stdout",
     "output_type": "stream",
     "text": [
      "The answer is: 64\n"
     ]
    }
   ],
   "source": [
    "# write down a function to produce this statment: use lambda fn\n",
    "# f(x,y,z) = 2x ** 2 + 2y + z\n",
    "\n",
    "y = lambda x,y,z : (2 * x ** 2) + (2 * y) + z\n",
    "print(\"The answer is:\", y(5,6,2))\n",
    "\n"
   ]
  },
  {
   "cell_type": "code",
   "execution_count": 45,
   "id": "689348f7-b7c3-4e5e-9a96-1b4e9c4ad6b8",
   "metadata": {},
   "outputs": [
    {
     "name": "stdout",
     "output_type": "stream",
     "text": [
      "Date and time 2021-10-21 22:44:59.408699\n",
      "Thu Oct 21 22:44:59 2021\n",
      "10/21/21\n",
      "22:44:59\n",
      "Date:  21 10 2021\n"
     ]
    }
   ],
   "source": [
    "import datetime\n",
    "from datetime import date\n",
    "\n",
    "x = datetime.datetime.now()\n",
    "print(\"Date and time\",x)\n",
    "# %c=local date and time, %x=local date %X local's time\n",
    "print(x.strftime(\"%c\"))\n",
    "print(x.strftime(\"%x\"))\n",
    "print(x.strftime(\"%X\"))\n",
    "\n",
    "\n",
    "c = date.today()\n",
    "print(\"Date: \",c.day, c.month, c.year)\n"
   ]
  },
  {
   "cell_type": "code",
   "execution_count": 55,
   "id": "6e3135fd-587f-4508-bb0b-58f2e789a68f",
   "metadata": {},
   "outputs": [
    {
     "name": "stdin",
     "output_type": "stream",
     "text": [
      "Insert a number: 2.8\n"
     ]
    },
    {
     "name": "stdout",
     "output_type": "stream",
     "text": [
      "160.4282\n"
     ]
    },
    {
     "name": "stdin",
     "output_type": "stream",
     "text": [
      "number: 2\n",
      "to the power of: 2\n"
     ]
    },
    {
     "name": "stdout",
     "output_type": "stream",
     "text": [
      "4.0\n"
     ]
    }
   ],
   "source": [
    "''' 5. find out more function in math module and try to use them in your code'''\n",
    "\n",
    "import math\n",
    "\n",
    "#convert rad to deg\n",
    "rad = float(input(\"Insert a number:\"))\n",
    "print (round(math.degrees(rad),4))\n",
    "\n",
    "num=float(input(\"number:\"))\n",
    "pwr=int(input(\"to the power of:\"))\n",
    "print(math.pow(num, pwr))\n"
   ]
  },
  {
   "cell_type": "code",
   "execution_count": 81,
   "id": "1307a11d-4b84-492d-9471-c7802121c403",
   "metadata": {},
   "outputs": [
    {
     "name": "stdout",
     "output_type": "stream",
     "text": [
      "Hello, Ikhwan\n",
      "23\n",
      "17.1887\n"
     ]
    }
   ],
   "source": [
    "'''\n",
    "6. create a module with your name and import function of previous assignmnet to it\n",
    "try to use them in another file\n",
    "'''\n",
    "import ikhwan\n",
    "ikhwan.greeting(\"Ikhwan\")\n",
    "print (person1[\"age\"])\n",
    "ikhwan.r2d(0.3)\n",
    "\n",
    "\n"
   ]
  },
  {
   "cell_type": "code",
   "execution_count": 2,
   "id": "352b1c6c-df5b-4372-9792-931d33181edd",
   "metadata": {},
   "outputs": [
    {
     "name": "stdout",
     "output_type": "stream",
     "text": [
      "No\t\tTime\t\tTemperature\n",
      "1\t\t8.00am\t\t\t20\n",
      "2\t\t10.00am\t\t\t24\n",
      "\n",
      "The file does not exist\n",
      "The file  names2.txt removed\n"
     ]
    }
   ],
   "source": [
    "\"\"\"\n",
    "7- create a package with these modules:\n",
    "- a module that has function for creating, writing and reading the file,\n",
    "the file name will be \n",
    "- a module(destroy): get the file name and delete the file\n",
    "- use the package and all moodule in your codes\n",
    "\n",
    "\n",
    "\"\"\"\n",
    "import wanpackage.FileHandling\n",
    "import wanpackage.destroy\n",
    "\n",
    "wanpackage.FileHandling.handle(\"names.txt\")\n",
    "wanpackage.FileHandling.writing(\"names.txt\")\n",
    "wanpackage.FileHandling.reading(\"names.txt\")\n",
    "\n",
    "wanpackage.FileHandling.handle(\"names2.txt\")\n",
    "wanpackage.FileHandling.reading(\"names2.txt\")\n",
    "\n",
    "wanpackage.destroy.deletes(\"bui2.txt\")\n",
    "wanpackage.destroy.deletes(\"names2.txt\")"
   ]
  },
  {
   "cell_type": "code",
   "execution_count": null,
   "id": "3353a578-2374-4451-8a77-447c9ffd0f15",
   "metadata": {},
   "outputs": [],
   "source": [
    "\n"
   ]
  }
 ],
 "metadata": {
  "kernelspec": {
   "display_name": "Python 3",
   "language": "python",
   "name": "python3"
  },
  "language_info": {
   "codemirror_mode": {
    "name": "ipython",
    "version": 3
   },
   "file_extension": ".py",
   "mimetype": "text/x-python",
   "name": "python",
   "nbconvert_exporter": "python",
   "pygments_lexer": "ipython3",
   "version": "3.8.8"
  }
 },
 "nbformat": 4,
 "nbformat_minor": 5
}
