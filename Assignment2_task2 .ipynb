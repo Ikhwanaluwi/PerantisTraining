{
 "cells": [
  {
   "cell_type": "code",
   "execution_count": 1,
   "id": "fde76e6e-384f-4398-b4cf-b9c23b170b99",
   "metadata": {},
   "outputs": [
    {
     "name": "stdin",
     "output_type": "stream",
     "text": [
      "Name:  ikhwan\n",
      "Year of Birth:  1998\n",
      "Salary:  2000\n"
     ]
    },
    {
     "name": "stdout",
     "output_type": "stream",
     "text": [
      "Goodday, ikhwan! Your year of birth is 1998 and your age in the year 2030 will be 32.From your salary of 2000, the computed tax of 12.3% is 246.0.\n"
     ]
    }
   ],
   "source": [
    "#Question 1\n",
    "name = input(\"Name: \")\n",
    "birth = input(\"Year of Birth: \")\n",
    "salary = input(\"Salary: \")\n",
    "age = 2030- int(birth)\n",
    "tax = float(salary) * 0.123\n",
    "\n",
    "text =  'Goodday, {0}! Your year of birth is {1} '\\\n",
    "        'and your age in the year 2030 will be {3}.'\\\n",
    "        'From your salary of {2}, the computed tax of 12.3% is {4}.'\n",
    "\n",
    "print(text.format(name, birth, salary, age, tax))"
   ]
  },
  {
   "cell_type": "code",
   "execution_count": 2,
   "id": "6c4f09ca-a938-4f81-a16f-bb434bbdfa75",
   "metadata": {},
   "outputs": [
    {
     "name": "stdin",
     "output_type": "stream",
     "text": [
      "More player? y or n:  y\n",
      "Name:  ikhwan\n",
      "Score:  90\n",
      "More player? y or n:  y\n",
      "Name:  iffah\n",
      "Score:  80\n",
      "More player? y or n:  y\n",
      "Name:  afiq\n",
      "Score:  75\n",
      "More player? y or n:  y\n",
      "Name:  haziq\n",
      "Score:  77\n",
      "More player? y or n:  n\n"
     ]
    },
    {
     "name": "stdout",
     "output_type": "stream",
     "text": [
      "Average = 80.5\n"
     ]
    }
   ],
   "source": [
    "player = []\n",
    "scores = []\n",
    "\n",
    "def average(scores):\n",
    "    return sum(scores) / len(scores)\n",
    "\n",
    "\n",
    "play=input(\"More player? y or n: \")\n",
    "\n",
    "while play == \"y\":\n",
    "    name=input(\"Name: \")\n",
    "    player.append(name)\n",
    "    score=input(\"Score: \")\n",
    "    scores.append(float(score))\n",
    "    play=input(\"More player? y or n: \")\n",
    "\n",
    "else: \n",
    "    avg = average(scores)\n",
    "    print(\"Average =\", round(avg,2)) \n"
   ]
  },
  {
   "cell_type": "code",
   "execution_count": 1,
   "id": "bc089878-04be-4d90-b317-8bd8bff2aa70",
   "metadata": {},
   "outputs": [
    {
     "name": "stdin",
     "output_type": "stream",
     "text": [
      "Name: Ikhwan\n",
      "Zipcode<space>City: 16150 Kota Bharu\n",
      "Phone number: 019636xxxx\n",
      "Email: ikhwan@gmail.com\n",
      "Date:  17 October 2021\n"
     ]
    },
    {
     "name": "stdout",
     "output_type": "stream",
     "text": [
      "Ikhwan\n",
      "16150 Kota Bharu\n",
      "019636xxxx\n",
      "ikhwan@gmail.com\n",
      "\n",
      "17 October 2021\n",
      "\n",
      "Hiring Manager\n",
      "72900 Nusajaya\n",
      "01X-XXXXXXX\n",
      "hremail@gmail.com\n",
      "\n",
      "Dear Hiring Manager,\n",
      "\n",
      "I am Ikhwan a fresh graduate of Bachelor Mechatronic\n",
      "Engineering from UniMAP. I am writing to apply for a\n",
      "placement in Perantis program.\n",
      "\n",
      "I am interested in\n",
      "Industrial Automation training. I have develop my interest\n",
      "in robotics and automation during my year of studies. Hence,\n",
      "I believe that this training program is a good platform and\n",
      "will be benefial for me.\n",
      "\n",
      "I appreciate your time reviewing\n",
      "my application. It will be a pleasure to attend an interview\n",
      "with you at your convinient time. I can be contacted through\n",
      "phone at 0192348876 or email at ikhwan@gmail.com. Thank you.\n",
      "Best regards,\n",
      "\n",
      "Ikhwan\n"
     ]
    }
   ],
   "source": [
    "name=input(\"Name:\")\n",
    "cz=input(\"Zipcode<space>City:\")\n",
    "phone=input(\"Phone number:\")\n",
    "email=input(\"Email:\")\n",
    "date=input(\"Date: \")\n",
    "Manager= \"Hiring Manager\\n72900 Nusajaya\\n01X-XXXXXXX\\nhremail@gmail.com\"\n",
    "\n",
    "import textwrap\n",
    "Intro=name,cz,phone,email\n",
    "print(*Intro, sep=\"\\n\", end=\"\\n\\n\" + date + \"\\n\\n\")\n",
    "print(Manager + \"\\n\\nDear Hiring Manager,\")\n",
    "\n",
    "sample = \"\"\"\n",
    "I am Ikhwan a fresh graduate of Bachelor Mechatronic Engineering from UniMAP. I am writing to apply for a placement in Perantis program.\n",
    "\n",
    "I am interested in Industrial Automation training. I have develop my interest in robotics and automation during my year of studies. Hence, I believe that this training program is a good platform and will be benefial for me.\n",
    "\n",
    "I appreciate your time reviewing my application. It will be a pleasure to attend an interview with you at your convinient time. I can be contacted through phone at 0192348876 or email at ikhwan@gmail.com. Thank you. \n",
    "\n",
    "\n",
    "Best regards,\n",
    "\n",
    "Ikhwan\n",
    "\"\"\"\n",
    "\n",
    "print(textwrap.fill(sample, width=60,replace_whitespace=False))"
   ]
  },
  {
   "cell_type": "code",
   "execution_count": null,
   "id": "bf478772-9960-4231-bfb9-b85d801e3c8b",
   "metadata": {},
   "outputs": [],
   "source": []
  }
 ],
 "metadata": {
  "kernelspec": {
   "display_name": "Python 3",
   "language": "python",
   "name": "python3"
  },
  "language_info": {
   "codemirror_mode": {
    "name": "ipython",
    "version": 3
   },
   "file_extension": ".py",
   "mimetype": "text/x-python",
   "name": "python",
   "nbconvert_exporter": "python",
   "pygments_lexer": "ipython3",
   "version": "3.8.8"
  }
 },
 "nbformat": 4,
 "nbformat_minor": 5
}
