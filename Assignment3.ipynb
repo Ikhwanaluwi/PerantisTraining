{
 "cells": [
  {
   "cell_type": "code",
   "execution_count": 9,
   "id": "d5aa7694-6dd5-4b6c-b76f-7ae1c6f11e69",
   "metadata": {},
   "outputs": [
    {
     "name": "stdout",
     "output_type": "stream",
     "text": [
      "{'kosong': 'zero', 'satu': 'one', 'dua': 'two', 'tiga': '', 'empat': 'four', 'lima': 'five', 'six': 'enam', 'seven': 'tujuh', 'eight': 'lapan', 'nine': 'sembilan', 'ten': 'sepuluh'}\n"
     ]
    },
    {
     "name": "stdin",
     "output_type": "stream",
     "text": [
      "Enter tiga in English three\n"
     ]
    },
    {
     "name": "stdout",
     "output_type": "stream",
     "text": [
      "{'kosong': 'zero', 'satu': 'one', 'dua': 'two', 'tiga': 'three', 'empat': 'four', 'lima': 'five', 'six': 'enam', 'seven': 'tujuh', 'eight': 'lapan', 'nine': 'sembilan', 'ten': 'sepuluh'}\n"
     ]
    }
   ],
   "source": [
    "\"\"\"\n",
    "Task1\n",
    "1- Define a set of number from 0-10\n",
    "2- Find out which number are not define in the dictionary\n",
    "3- ask user input to add them to the dictionary\n",
    "4- Print completed dictionary\n",
    "\n",
    "\"\"\"\n",
    "\n",
    "num = {\"kosong\":\"zero\", \"satu\":\"one\", \"dua\":\"two\", \"tiga\":\"\", \"empat\": \"four\", \"lima\": \"five\", \"six\":\"enam\", \"seven\": \"tujuh\", \"eight\":\"lapan\", \"nine\":\"sembilan\",\"ten\":\"sepuluh\"}\n",
    "print(num)\n",
    "\n",
    "vals=list(num.values())\n",
    "keyss=list(num.keys())\n",
    "\n",
    "for i in range (len(vals)):\n",
    "    if vals[i]=='':\n",
    "        from_user = input(f\"Enter {keyss[i]} in English\")\n",
    "        num[keys[i]] = from_user\n",
    "        print(num)\n",
    "        \n",
    "\n",
    "\n"
   ]
  },
  {
   "cell_type": "code",
   "execution_count": 21,
   "id": "6ef7195f-3a4f-4864-aa64-894cd9b308ef",
   "metadata": {},
   "outputs": [
    {
     "name": "stdin",
     "output_type": "stream",
     "text": [
      "Insert a number: 8\n"
     ]
    },
    {
     "name": "stdout",
     "output_type": "stream",
     "text": [
      "36\n"
     ]
    }
   ],
   "source": [
    "\"\"\"\n",
    "TASK 2\n",
    "get an integer value from user (n). calculate this seri: S = 1+2+...+n\n",
    "print the s result\n",
    "eg n=4 s=10\n",
    "eg n=0 s=0\n",
    "eg n=1 s=1\n",
    "write this prgram with both while amd for instruction\n",
    "\n",
    "\"\"\"\n",
    "# 1 3 6 10 15 21 28 36\n",
    "n = int(input(\"Insert a number:\"))\n",
    "\n",
    "coeff=1\n",
    "s=0\n",
    "\n",
    "while coeff <= n:\n",
    "    s =  s+coeff\n",
    "    coeff = coeff+1\n",
    "    \n",
    "else: print(s)\n",
    "    \n",
    "\n",
    "\n",
    "#print ((n*(n+1))//2) \n"
   ]
  },
  {
   "cell_type": "code",
   "execution_count": 27,
   "id": "897415c8-e74e-4a12-b374-1fb3ba8d138b",
   "metadata": {},
   "outputs": [
    {
     "name": "stdin",
     "output_type": "stream",
     "text": [
      "Insert a number: 8\n"
     ]
    },
    {
     "name": "stdout",
     "output_type": "stream",
     "text": [
      "36\n"
     ]
    }
   ],
   "source": [
    "n = int(input(\"Insert a number:\"))\n",
    "i=1\n",
    "s=0\n",
    "for i in range (n+1):\n",
    "    s = s+i\n",
    "    i = i+1\n",
    "print(s)\n",
    "    "
   ]
  },
  {
   "cell_type": "code",
   "execution_count": null,
   "id": "abd19dca-4598-4add-8c94-e86e10e3880e",
   "metadata": {},
   "outputs": [],
   "source": []
  }
 ],
 "metadata": {
  "kernelspec": {
   "display_name": "Python 3",
   "language": "python",
   "name": "python3"
  },
  "language_info": {
   "codemirror_mode": {
    "name": "ipython",
    "version": 3
   },
   "file_extension": ".py",
   "mimetype": "text/x-python",
   "name": "python",
   "nbconvert_exporter": "python",
   "pygments_lexer": "ipython3",
   "version": "3.8.8"
  }
 },
 "nbformat": 4,
 "nbformat_minor": 5
}
