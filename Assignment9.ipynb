{
 "cells": [
  {
   "cell_type": "markdown",
   "id": "78424959-b119-4289-9dc8-41cdb4604375",
   "metadata": {},
   "source": [
    "## ASSIGNMENT 9\n",
    "\n",
    "1- Create a random array A, of shape (6x6) using randintand seed 2.\n",
    "\n",
    "2- Convert the array A, to an identity matrix I.\n"
   ]
  },
  {
   "cell_type": "code",
   "execution_count": 5,
   "id": "082bc353-93a2-49b2-b960-3bf41a875572",
   "metadata": {},
   "outputs": [],
   "source": [
    "def array_properties(a):\n",
    "    print(\"dim = \", a.ndim)\n",
    "    print(\"shape = \", a.shape)\n",
    "    print(\"datatype = \", a.dtype)\n",
    "    print(\"size = \", a.size)\n",
    "    print()\n",
    "    print(\"a = \\n\", a)"
   ]
  },
  {
   "cell_type": "code",
   "execution_count": 8,
   "id": "96c853c8-176c-4ec3-85ee-92d9cf5ca40c",
   "metadata": {},
   "outputs": [
    {
     "name": "stdout",
     "output_type": "stream",
     "text": [
      "dim =  2\n",
      "shape =  (6, 6)\n",
      "datatype =  int32\n",
      "size =  36\n",
      "\n",
      "a = \n",
      " [[16  9 23 19 12  8]\n",
      " [35 32 12 22 32 27]\n",
      " [21 38  4 39  5 39]\n",
      " [34  4  6 25  5  7]\n",
      " [32 20 32  3 17 13]\n",
      " [ 5 27 16  9 16  9]]\n",
      "dim =  2\n",
      "shape =  (6, 6)\n",
      "datatype =  float64\n",
      "size =  36\n",
      "\n",
      "a = \n",
      " [[1. 0. 0. 0. 0. 0.]\n",
      " [0. 1. 0. 0. 0. 0.]\n",
      " [0. 0. 1. 0. 0. 0.]\n",
      " [0. 0. 0. 1. 0. 0.]\n",
      " [0. 0. 0. 0. 1. 0.]\n",
      " [0. 0. 0. 0. 0. 1.]]\n"
     ]
    }
   ],
   "source": [
    "import numpy as np\n",
    "\n",
    "np.random.seed(2)\n",
    "\n",
    "A = np.random.randint(1, 40,(6,6))\n",
    "array_properties(A)\n",
    "\n",
    "M,N = A.shape\n",
    "\n",
    "I = np.eye(N)\n",
    "\n",
    "array_properties(I)"
   ]
  },
  {
   "cell_type": "code",
   "execution_count": 9,
   "id": "264daaa4-6dcb-4dd6-b68a-70c70d41165e",
   "metadata": {},
   "outputs": [
    {
     "name": "stdout",
     "output_type": "stream",
     "text": [
      "dim =  2\n",
      "shape =  (6, 6)\n",
      "datatype =  float64\n",
      "size =  36\n",
      "\n",
      "a = \n",
      " [[1. 0. 0. 0. 0. 0.]\n",
      " [0. 1. 0. 0. 0. 0.]\n",
      " [0. 0. 1. 0. 0. 0.]\n",
      " [0. 0. 0. 1. 0. 0.]\n",
      " [0. 0. 0. 0. 1. 0.]\n",
      " [0. 0. 0. 0. 0. 1.]]\n"
     ]
    }
   ],
   "source": [
    "A = np.identity(6)\n",
    "array_properties(A)"
   ]
  },
  {
   "cell_type": "code",
   "execution_count": null,
   "id": "029b7b4d-0b8c-4fca-8d25-a473010b5de4",
   "metadata": {},
   "outputs": [],
   "source": []
  }
 ],
 "metadata": {
  "kernelspec": {
   "display_name": "Python 3",
   "language": "python",
   "name": "python3"
  },
  "language_info": {
   "codemirror_mode": {
    "name": "ipython",
    "version": 3
   },
   "file_extension": ".py",
   "mimetype": "text/x-python",
   "name": "python",
   "nbconvert_exporter": "python",
   "pygments_lexer": "ipython3",
   "version": "3.8.8"
  }
 },
 "nbformat": 4,
 "nbformat_minor": 5
}
