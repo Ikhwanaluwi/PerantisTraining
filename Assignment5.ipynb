{
 "cells": [
  {
   "cell_type": "code",
   "execution_count": null,
   "id": "437de079-bb8d-4948-ac88-b33bdbf3d17b",
   "metadata": {},
   "outputs": [],
   "source": [
    "PassedSubject = {}\n",
    "ask=input(\"Pass a subject? (y or n):\")\n",
    "while ask == \"y\":\n",
    "    sub=(input(\"Passed Subject Name (Fluid/AI/DSP/CS): \"))\n",
    "    values=int(input(\"Passed Subject Mark:\"))\n",
    "    PassedSubject[sub] = values\n",
    "    ask=input(\"Pass another subject? (y or n):\")\n",
    "\n",
    "\n",
    "FailedSubject = {}\n",
    "asks=input(\"Fail a subject? (y or n):\")\n",
    "while asks == \"y\":\n",
    "    sub=(input(\"Failed Subject Name (Fluid/AI/DSP/CS): \"))\n",
    "    values=int(input(\"Failed Subject Mark: \"))\n",
    "    FailedSubject[sub] = values\n",
    "    asks=input(\"Fail another subject? (y or n):\")\n",
    "\n",
    "totalmark=(sum(PassedSubject.values()) + sum(FailedSubject.values()))\n",
    "totalallsub=(len(PassedSubject) + len(FailedSubject))\n",
    "avg=totalmark/totalallsub\n",
    "\n",
    "major={'Fluid','AI','DSP','CS'}\n",
    "RequiredCourse=major.difference(PassedSubject)\n",
    "RequiredCourse.union(FailedSubject)\n",
    "print(\"You have to take these subject to PASS: \",RequiredCourse)  "
   ]
  },
  {
   "cell_type": "code",
   "execution_count": null,
   "id": "8900a47f-af5a-4215-9f6e-29aa83bdc960",
   "metadata": {},
   "outputs": [],
   "source": [
    "name= \"Ikhwan\"\n",
    "matric = \"1234\"\n",
    "course=\"Mechatronics Engineering\"\n",
    "\n",
    "\n",
    "class students:\n",
    "    def __init__(self, name, matric, course):\n",
    "        self.name = name\n",
    "        self.matric = matric\n",
    "        self.course = course\n",
    "        \n",
    "    def info(self):\n",
    "        print(\"Name: \" + self.name, \"\\tMatric Number:\" + self.matric, \"\\tCourse:\" + self.course)\n",
    "\n",
    "#p1 = students(\"Ikhwan\", \"12345\", \"Mechatronic\")\n",
    "        \n",
    "class BSCstudent(students):\n",
    "    def __init__(self, name, matric, course, PassedSubject, FailedSubject, major, avg, RequiredCourse):\n",
    "        super().__init__(name, matric, course)\n",
    "        self.major = major\n",
    "        self.PassedSubject = PassedSubject\n",
    "        self.FailedSubject = FailedSubject\n",
    "        self.avg = avg\n",
    "        self.RequiredCourse = RequiredCourse\n",
    "        \n",
    "    def printinfo(self):\n",
    "        super().info()\n",
    "        print(\"Passed Subject and Marks: \", self.PassedSubject)\n",
    "        print(\"Failed Subject and Marks: \", self.FailedSubject)\n",
    "        print(\"Average Marks: \", self.avg)\n",
    "        print(\"You are required to take this subject(s): \", self.RequiredCourse)\n",
    "        \n",
    "        \n",
    "student = BSCstudent(name, matric, course, PassedSubject, FailedSubject, major, avg, RequiredCourse)\n",
    "student.printinfo()"
   ]
  }
 ],
 "metadata": {
  "kernelspec": {
   "display_name": "Python 3",
   "language": "python",
   "name": "python3"
  },
  "language_info": {
   "codemirror_mode": {
    "name": "ipython",
    "version": 3
   },
   "file_extension": ".py",
   "mimetype": "text/x-python",
   "name": "python",
   "nbconvert_exporter": "python",
   "pygments_lexer": "ipython3",
   "version": "3.8.8"
  }
 },
 "nbformat": 4,
 "nbformat_minor": 5
}
